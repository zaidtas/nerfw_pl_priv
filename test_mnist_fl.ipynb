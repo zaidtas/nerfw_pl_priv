{
 "cells": [
  {
   "cell_type": "code",
   "execution_count": 1,
   "id": "6306c0db",
   "metadata": {},
   "outputs": [
    {
     "name": "stdout",
     "output_type": "stream",
     "text": [
      "Training on cuda:0 using PyTorch 2.0.1 and Flower 1.4.0\n"
     ]
    }
   ],
   "source": [
    "%load_ext autoreload\n",
    "%autoreload 2\n",
    "\n",
    "import os\n",
    "os.environ[\"CUDA_VISIBLE_DEVICES\"] = '7'\n",
    "\n",
    "\n",
    "from collections import OrderedDict\n",
    "from typing import List, Tuple\n",
    "\n",
    "# import matplotlib.pyplot as plt\n",
    "import numpy as np\n",
    "import torch\n",
    "import torch.nn as nn\n",
    "import torch.nn.functional as F\n",
    "import torchvision\n",
    "import torchvision.transforms as transforms\n",
    "from torch.utils.data import DataLoader, random_split\n",
    "from torchvision.datasets import CIFAR10\n",
    "\n",
    "import flwr as fl\n",
    "from flwr.common import Metrics\n",
    "\n",
    "DEVICE = torch.device(\"cuda:0\" if torch.cuda.is_available() else \"cpu\")\n",
    "print(\n",
    "    f\"Training on {DEVICE} using PyTorch {torch.__version__} and Flower {fl.__version__}\"\n",
    ")"
   ]
  },
  {
   "cell_type": "code",
   "execution_count": 2,
   "id": "6c0e29f1",
   "metadata": {},
   "outputs": [],
   "source": [
    "CLASSES = (\n",
    "    \"plane\",\n",
    "    \"car\",\n",
    "    \"bird\",\n",
    "    \"cat\",\n",
    "    \"deer\",\n",
    "    \"dog\",\n",
    "    \"frog\",\n",
    "    \"horse\",\n",
    "    \"ship\",\n",
    "    \"truck\",\n",
    ")"
   ]
  },
  {
   "cell_type": "code",
   "execution_count": 3,
   "id": "a0eef474",
   "metadata": {},
   "outputs": [],
   "source": [
    "NUM_CLIENTS = 10"
   ]
  },
  {
   "cell_type": "code",
   "execution_count": 4,
   "id": "668c6fd7",
   "metadata": {},
   "outputs": [
    {
     "name": "stdout",
     "output_type": "stream",
     "text": [
      "Files already downloaded and verified\n",
      "Files already downloaded and verified\n"
     ]
    }
   ],
   "source": [
    "BATCH_SIZE = 32\n",
    "\n",
    "\n",
    "def load_datasets():\n",
    "    # Download and transform CIFAR-10 (train and test)\n",
    "    transform = transforms.Compose(\n",
    "        [transforms.ToTensor(), transforms.Normalize((0.5, 0.5, 0.5), (0.5, 0.5, 0.5))]\n",
    "    )\n",
    "    trainset = CIFAR10(\"./dataset\", train=True, download=True, transform=transform)\n",
    "    testset = CIFAR10(\"./dataset\", train=False, download=True, transform=transform)\n",
    "\n",
    "    # Split training set into 10 partitions to simulate the individual dataset\n",
    "    partition_size = len(trainset) // NUM_CLIENTS\n",
    "    lengths = [partition_size] * NUM_CLIENTS\n",
    "    datasets = random_split(trainset, lengths, torch.Generator().manual_seed(42))\n",
    "\n",
    "    # Split each partition into train/val and create DataLoader\n",
    "    trainloaders = []\n",
    "    valloaders = []\n",
    "    for ds in datasets:\n",
    "        len_val = len(ds) // 10  # 10 % validation set\n",
    "        len_train = len(ds) - len_val\n",
    "        lengths = [len_train, len_val]\n",
    "        ds_train, ds_val = random_split(ds, lengths, torch.Generator().manual_seed(42))\n",
    "        trainloaders.append(DataLoader(ds_train, batch_size=BATCH_SIZE, shuffle=True))\n",
    "        valloaders.append(DataLoader(ds_val, batch_size=BATCH_SIZE))\n",
    "    testloader = DataLoader(testset, batch_size=BATCH_SIZE)\n",
    "    return trainloaders, valloaders, testloader\n",
    "\n",
    "\n",
    "trainloaders, valloaders, testloader = load_datasets()"
   ]
  },
  {
   "cell_type": "code",
   "execution_count": 5,
   "id": "6ed541b4",
   "metadata": {},
   "outputs": [],
   "source": [
    "class Net(nn.Module):\n",
    "    def __init__(self) -> None:\n",
    "        super(Net, self).__init__()\n",
    "        self.conv1 = nn.Conv2d(3, 6, 5)\n",
    "        self.pool = nn.MaxPool2d(2, 2)\n",
    "        self.conv2 = nn.Conv2d(6, 16, 5)\n",
    "        self.fc1 = nn.Linear(16 * 5 * 5, 120)\n",
    "        self.fc2 = nn.Linear(120, 84)\n",
    "        self.fc3 = nn.Linear(84, 10)\n",
    "\n",
    "    def forward(self, x: torch.Tensor) -> torch.Tensor:\n",
    "        x = self.pool(F.relu(self.conv1(x)))\n",
    "        x = self.pool(F.relu(self.conv2(x)))\n",
    "        x = x.view(-1, 16 * 5 * 5)\n",
    "        x = F.relu(self.fc1(x))\n",
    "        x = F.relu(self.fc2(x))\n",
    "        x = self.fc3(x)\n",
    "        return x"
   ]
  },
  {
   "cell_type": "code",
   "execution_count": 7,
   "id": "fd554f43",
   "metadata": {},
   "outputs": [],
   "source": [
    "def train(net, trainloader, epochs: int, verbose=False):\n",
    "    \"\"\"Train the network on the training set.\"\"\"\n",
    "    criterion = torch.nn.CrossEntropyLoss()\n",
    "    optimizer = torch.optim.Adam(net.parameters())\n",
    "    net.train()\n",
    "    for epoch in range(epochs):\n",
    "        correct, total, epoch_loss = 0, 0, 0.0\n",
    "        for images, labels in trainloader:\n",
    "            images, labels = images.to(DEVICE), labels.to(DEVICE)\n",
    "            optimizer.zero_grad()\n",
    "            outputs = net(images)\n",
    "            loss = criterion(outputs, labels)\n",
    "            loss.backward()\n",
    "            optimizer.step()\n",
    "            # Metrics\n",
    "            epoch_loss += loss\n",
    "            total += labels.size(0)\n",
    "            correct += (torch.max(outputs.data, 1)[1] == labels).sum().item()\n",
    "        epoch_loss /= len(trainloader.dataset)\n",
    "        epoch_acc = correct / total\n",
    "        if verbose:\n",
    "            print(f\"Epoch {epoch+1}: train loss {epoch_loss}, accuracy {epoch_acc}\")\n",
    "\n",
    "\n",
    "def test(net, testloader):\n",
    "    \"\"\"Evaluate the network on the entire test set.\"\"\"\n",
    "    criterion = torch.nn.CrossEntropyLoss()\n",
    "    correct, total, loss = 0, 0, 0.0\n",
    "    net.eval()\n",
    "    with torch.no_grad():\n",
    "        for images, labels in testloader:\n",
    "            images, labels = images.to(DEVICE), labels.to(DEVICE)\n",
    "            outputs = net(images)\n",
    "            loss += criterion(outputs, labels).item()\n",
    "            _, predicted = torch.max(outputs.data, 1)\n",
    "            total += labels.size(0)\n",
    "            correct += (predicted == labels).sum().item()\n",
    "    loss /= len(testloader.dataset)\n",
    "    accuracy = correct / total\n",
    "    return loss, accuracy"
   ]
  },
  {
   "cell_type": "code",
   "execution_count": 8,
   "id": "e202d950",
   "metadata": {},
   "outputs": [],
   "source": [
    "def get_parameters(net) -> List[np.ndarray]:\n",
    "    return [val.cpu().numpy() for _, val in net.state_dict().items()]\n",
    "\n",
    "\n",
    "def set_parameters(net, parameters: List[np.ndarray]):\n",
    "    params_dict = zip(net.state_dict().keys(), parameters)\n",
    "    state_dict = OrderedDict({k: torch.Tensor(v) for k, v in params_dict})\n",
    "    net.load_state_dict(state_dict, strict=True)"
   ]
  },
  {
   "cell_type": "code",
   "execution_count": 9,
   "id": "13def67d",
   "metadata": {},
   "outputs": [],
   "source": [
    "class FlowerClient(fl.client.NumPyClient):\n",
    "    def __init__(self, net, trainloader, valloader):\n",
    "        self.net = net\n",
    "        self.trainloader = trainloader\n",
    "        self.valloader = valloader\n",
    "\n",
    "    def get_parameters(self, config):\n",
    "        return get_parameters(self.net)\n",
    "\n",
    "    def fit(self, parameters, config):\n",
    "        set_parameters(self.net, parameters)\n",
    "        train(self.net, self.trainloader, epochs=1)\n",
    "        return get_parameters(self.net), len(self.trainloader), {}\n",
    "\n",
    "    def evaluate(self, parameters, config):\n",
    "        set_parameters(self.net, parameters)\n",
    "        loss, accuracy = test(self.net, self.valloader)\n",
    "        return float(loss), len(self.valloader), {\"accuracy\": float(accuracy)}"
   ]
  },
  {
   "cell_type": "code",
   "execution_count": 10,
   "id": "bc94a9fe",
   "metadata": {},
   "outputs": [],
   "source": [
    "def client_fn(cid: str) -> FlowerClient:\n",
    "    \"\"\"Create a Flower client representing a single organization.\"\"\"\n",
    "\n",
    "    # Load model\n",
    "    net = Net().to(DEVICE)\n",
    "\n",
    "    # Load data (CIFAR-10)\n",
    "    # Note: each client gets a different trainloader/valloader, so each client\n",
    "    # will train and evaluate on their own unique data\n",
    "    trainloader = trainloaders[int(cid)]\n",
    "    valloader = valloaders[int(cid)]\n",
    "\n",
    "    # Create a  single Flower client representing a single organization\n",
    "    return FlowerClient(net, trainloader, valloader)"
   ]
  },
  {
   "cell_type": "code",
   "execution_count": 13,
   "id": "09189ad3",
   "metadata": {},
   "outputs": [],
   "source": [
    "# Create FedAvg strategy\n",
    "strategy = fl.server.strategy.FedAvg(\n",
    "    fraction_fit=1.0,  # Sample 100% of available clients for training\n",
    "    fraction_evaluate=0.5,  # Sample 50% of available clients for evaluation\n",
    "    min_fit_clients=10,  # Never sample less than 10 clients for training\n",
    "    min_evaluate_clients=5,  # Never sample less than 5 clients for evaluation\n",
    "    min_available_clients=10,  # Wait until all 10 clients are available\n",
    ")\n",
    "\n",
    "# Specify client resources if you need GPU (defaults to 1 CPU and 0 GPU)\n",
    "client_resources = None\n",
    "if DEVICE.type == \"cuda\":\n",
    "    client_resources = {\"num_gpus\": 1}\n",
    "\n"
   ]
  },
  {
   "cell_type": "code",
   "execution_count": 14,
   "id": "f6b7df3a",
   "metadata": {},
   "outputs": [],
   "source": [
    "client_resources"
   ]
  },
  {
   "cell_type": "code",
   "execution_count": 15,
   "id": "bac3e3cc",
   "metadata": {},
   "outputs": [
    {
     "name": "stderr",
     "output_type": "stream",
     "text": [
      "INFO flwr 2023-08-24 16:21:37,142 | app.py:146 | Starting Flower simulation, config: ServerConfig(num_rounds=5, round_timeout=None)\n",
      "2023-08-24 16:21:39,419\tINFO worker.py:1621 -- Started a local Ray instance.\n",
      "INFO flwr 2023-08-24 16:21:40,595 | app.py:180 | Flower VCE: Ray initialized with resources: {'object_store_memory': 200000000000.0, 'GPU': 1.0, 'CPU': 128.0, 'node:__internal_head__': 1.0, 'memory': 766792023040.0, 'node:10.129.96.28': 1.0, 'accelerator_type:A100': 1.0}\n",
      "INFO flwr 2023-08-24 16:21:40,597 | server.py:86 | Initializing global parameters\n",
      "INFO flwr 2023-08-24 16:21:40,598 | server.py:273 | Requesting initial parameters from one random client\n",
      "INFO flwr 2023-08-24 16:21:42,465 | server.py:277 | Received initial parameters from one random client\n",
      "INFO flwr 2023-08-24 16:21:42,467 | server.py:88 | Evaluating initial parameters\n",
      "INFO flwr 2023-08-24 16:21:42,469 | server.py:101 | FL starting\n",
      "DEBUG flwr 2023-08-24 16:21:42,471 | server.py:218 | fit_round 1: strategy sampled 10 clients (out of 10)\n",
      "DEBUG flwr 2023-08-24 16:21:54,223 | server.py:232 | fit_round 1 received 10 results and 0 failures\n",
      "WARNING flwr 2023-08-24 16:21:54,240 | fedavg.py:243 | No fit_metrics_aggregation_fn provided\n",
      "DEBUG flwr 2023-08-24 16:21:54,241 | server.py:168 | evaluate_round 1: strategy sampled 5 clients (out of 10)\n",
      "DEBUG flwr 2023-08-24 16:21:59,139 | server.py:182 | evaluate_round 1 received 5 results and 0 failures\n",
      "WARNING flwr 2023-08-24 16:21:59,141 | fedavg.py:274 | No evaluate_metrics_aggregation_fn provided\n",
      "DEBUG flwr 2023-08-24 16:21:59,142 | server.py:218 | fit_round 2: strategy sampled 10 clients (out of 10)\n",
      "DEBUG flwr 2023-08-24 16:22:10,514 | server.py:232 | fit_round 2 received 10 results and 0 failures\n",
      "DEBUG flwr 2023-08-24 16:22:10,531 | server.py:168 | evaluate_round 2: strategy sampled 5 clients (out of 10)\n",
      "DEBUG flwr 2023-08-24 16:22:15,661 | server.py:182 | evaluate_round 2 received 5 results and 0 failures\n",
      "DEBUG flwr 2023-08-24 16:22:15,663 | server.py:218 | fit_round 3: strategy sampled 10 clients (out of 10)\n",
      "DEBUG flwr 2023-08-24 16:22:26,831 | server.py:232 | fit_round 3 received 10 results and 0 failures\n",
      "DEBUG flwr 2023-08-24 16:22:26,846 | server.py:168 | evaluate_round 3: strategy sampled 5 clients (out of 10)\n",
      "DEBUG flwr 2023-08-24 16:22:31,925 | server.py:182 | evaluate_round 3 received 5 results and 0 failures\n",
      "DEBUG flwr 2023-08-24 16:22:31,927 | server.py:218 | fit_round 4: strategy sampled 10 clients (out of 10)\n",
      "DEBUG flwr 2023-08-24 16:22:43,227 | server.py:232 | fit_round 4 received 10 results and 0 failures\n",
      "DEBUG flwr 2023-08-24 16:22:43,236 | server.py:168 | evaluate_round 4: strategy sampled 5 clients (out of 10)\n",
      "DEBUG flwr 2023-08-24 16:22:48,230 | server.py:182 | evaluate_round 4 received 5 results and 0 failures\n",
      "DEBUG flwr 2023-08-24 16:22:48,232 | server.py:218 | fit_round 5: strategy sampled 10 clients (out of 10)\n",
      "DEBUG flwr 2023-08-24 16:22:59,486 | server.py:232 | fit_round 5 received 10 results and 0 failures\n",
      "DEBUG flwr 2023-08-24 16:22:59,500 | server.py:168 | evaluate_round 5: strategy sampled 5 clients (out of 10)\n",
      "DEBUG flwr 2023-08-24 16:23:04,572 | server.py:182 | evaluate_round 5 received 5 results and 0 failures\n",
      "INFO flwr 2023-08-24 16:23:04,574 | server.py:147 | FL finished in 82.10319944377989\n",
      "INFO flwr 2023-08-24 16:23:04,576 | app.py:218 | app_fit: losses_distributed [(1, 0.06329737563133239), (2, 0.05437354784011841), (3, 0.05129337539672853), (4, 0.048767896699905396), (5, 0.047476314926147456)]\n",
      "INFO flwr 2023-08-24 16:23:04,578 | app.py:219 | app_fit: metrics_distributed_fit {}\n",
      "INFO flwr 2023-08-24 16:23:04,579 | app.py:220 | app_fit: metrics_distributed {}\n",
      "INFO flwr 2023-08-24 16:23:04,582 | app.py:221 | app_fit: losses_centralized []\n",
      "INFO flwr 2023-08-24 16:23:04,583 | app.py:222 | app_fit: metrics_centralized {}\n"
     ]
    },
    {
     "data": {
      "text/plain": [
       "History (loss, distributed):\n",
       "\tround 1: 0.06329737563133239\n",
       "\tround 2: 0.05437354784011841\n",
       "\tround 3: 0.05129337539672853\n",
       "\tround 4: 0.048767896699905396\n",
       "\tround 5: 0.047476314926147456"
      ]
     },
     "execution_count": 15,
     "metadata": {},
     "output_type": "execute_result"
    }
   ],
   "source": [
    "# Start simulation\n",
    "fl.simulation.start_simulation(\n",
    "    client_fn=client_fn,\n",
    "    num_clients=NUM_CLIENTS,\n",
    "    config=fl.server.ServerConfig(num_rounds=5),\n",
    "    strategy=strategy,\n",
    "    client_resources=client_resources,\n",
    ")"
   ]
  },
  {
   "cell_type": "code",
   "execution_count": null,
   "id": "c4a09365",
   "metadata": {},
   "outputs": [],
   "source": []
  }
 ],
 "metadata": {
  "kernelspec": {
   "display_name": "Python 3 (ipykernel)",
   "language": "python",
   "name": "python3"
  },
  "language_info": {
   "codemirror_mode": {
    "name": "ipython",
    "version": 3
   },
   "file_extension": ".py",
   "mimetype": "text/x-python",
   "name": "python",
   "nbconvert_exporter": "python",
   "pygments_lexer": "ipython3",
   "version": "3.9.0"
  }
 },
 "nbformat": 4,
 "nbformat_minor": 5
}
